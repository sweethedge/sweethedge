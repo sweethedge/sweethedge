{
 "cells": [
  {
   "cell_type": "code",
   "execution_count": 3,
   "metadata": {},
   "outputs": [],
   "source": [
    "# Moduels 1\n",
    "import os\n",
    "import pymysql\n",
    "import pandas as pd\n",
    "import numpy as np \n",
    "import matplotlib.pyplot as plt\n",
    "import seaborn as sns \n",
    "import missingno as msno\n",
    "%matplotlib inline \n",
    "import warnings\n",
    "import matplotlib.font_manager as fm\n",
    "plt.rcParams['font.family'] = 'NanumGothic'\n",
    "import warnings\n",
    "warnings.filterwarnings('ignore')\n",
    "import math\n",
    "\n",
    "# Moduels 2\n",
    "import tensorflow as tf\n",
    "from tensorflow.keras.layers import Input, Dense\n",
    "from tensorflow.keras.models import Model\n",
    "from tensorflow.keras.optimizers import RMSprop\n",
    "from tensorflow.keras import backend as K"
   ]
  },
  {
   "cell_type": "code",
   "execution_count": 4,
   "metadata": {},
   "outputs": [
    {
     "name": "stdout",
     "output_type": "stream",
     "text": [
      "MySQL 서버에 연결 성공하였습니다. b'musthave' b'bigdata'\n"
     ]
    },
    {
     "data": {
      "text/plain": [
       "<pymysql.connections.Connection at 0x296b4b4d910>"
      ]
     },
     "execution_count": 4,
     "metadata": {},
     "output_type": "execute_result"
    }
   ],
   "source": [
    "# Connect \n",
    "def connect():##db명 String으로 줘야함\n",
    "  conn = pymysql.connect(\n",
    "    host='10.125.121.177', \n",
    "    user='musthave',\n",
    "    password=\"tiger\", db=\"bigdata\", charset='utf8')\n",
    "  if(conn.open):\n",
    "    print(\"MySQL 서버에 연결 성공하였습니다.\",conn.user,conn.db)\n",
    "  else:\n",
    "    print(\"연결 실패\")\n",
    "  return conn\n",
    "\n",
    "## Test\n",
    "connect() # 성공확인"
   ]
  },
  {
   "cell_type": "code",
   "execution_count": 5,
   "metadata": {},
   "outputs": [
    {
     "name": "stdout",
     "output_type": "stream",
     "text": [
      "MySQL 서버에 연결 성공하였습니다. b'musthave' b'bigdata'\n"
     ]
    }
   ],
   "source": [
    "def getAllData():\n",
    "  conn = connect()\n",
    "  cursor = conn.cursor(pymysql.cursors.SSDictCursor)\n",
    "  # sql = \"select * from MyTest\"\n",
    "  sql = \"select * from rawdata\"\n",
    "  cursor.execute(query=sql)\n",
    "  result = cursor.fetchall()\n",
    "  conn.close()\n",
    "  # for row in cursor:\n",
    "  #   print(row)\n",
    "  return result\n",
    "\n",
    "def insertDBList(lst): ## M,C,avg,std\n",
    "  conn = connect() \n",
    "  cursor = conn.cursor()\n",
    "  for i in range(1,len(lst)):\n",
    "    sql = \"insert into Usableitems(\"+\"Machinery,Citem,avg,std)\"+\" VALUES (%s,%s,%s,%s)\"\n",
    "    cursor.execute(sql,lst[i])\n",
    "    conn.commit()\n",
    "  conn.close()\n",
    "  return True\n",
    "\n",
    "templist = getAllData()\n",
    "# print(list)\n",
    "# print(templist[0].keys())\n",
    "###"
   ]
  },
  {
   "cell_type": "code",
   "execution_count": 6,
   "metadata": {},
   "outputs": [],
   "source": [
    "useKey = ['Machinery','청구품목'] \n",
    "MC = []\n",
    "CI = []\n",
    "# PNO = []\n",
    "for i in templist:\n",
    "  if int(i['리드타임_음수제거'])<=500:\n",
    "    MC.append(i[useKey[0]].strip())\n",
    "    CI.append(i[useKey[1]].strip())\n",
    "    # PNO.append(i[useKey[2]].strip())\n",
    "\n",
    "MC = list(set(MC))\n",
    "CI = list(set(CI))\n",
    "# PNO = list(set(PNO))\n",
    "## 데이터 내에 양쪽 공백 제거했음."
   ]
  },
  {
   "cell_type": "code",
   "execution_count": 7,
   "metadata": {},
   "outputs": [
    {
     "name": "stdout",
     "output_type": "stream",
     "text": [
      "134\n",
      "3737\n"
     ]
    }
   ],
   "source": [
    "print(len(MC))\n",
    "print(len(CI))\n",
    "# print(len(PNO))\n"
   ]
  },
  {
   "cell_type": "code",
   "execution_count": 8,
   "metadata": {},
   "outputs": [
    {
     "data": {
      "text/plain": [
       "500758"
      ]
     },
     "execution_count": 8,
     "metadata": {},
     "output_type": "execute_result"
    }
   ],
   "source": [
    "# MC, CI, PNO 만들기\n",
    "mainList = []\n",
    "\n",
    "# 시간복잡도 : O(n^3) -> O(n^2) \n",
    "# 연산횟수 : 2,725,625,794 -> 500758\n",
    "# 많긴 한데 어쩔수없음. => 실행시간 \n",
    "for i in MC:\n",
    "  for j in CI:\n",
    "    temp = [i,j]\n",
    "    mainList.append(temp)\n",
    "    ## mainList :: [mc,ci] 로 구성된 배열\n",
    "  \n",
    "for i in mainList:\n",
    "  i.append([])\n",
    "# print(mainList)\n",
    "len(mainList)\n",
    "## mainList :: [mc,ci,[~~~~~]]"
   ]
  },
  {
   "cell_type": "code",
   "execution_count": 10,
   "metadata": {},
   "outputs": [],
   "source": [
    "resultMain = []\n",
    "for i in mainList:\n",
    "  for j in templist:\n",
    "    if j['Machinery'].strip() == i[0] and j['청구품목'].strip() == i[1]:\n",
    "      i[2].append(j['리드타임_음수제거'])\n",
    "\n",
    "realMainList=[]\n",
    "for i in mainList:\n",
    "  if len(i[1])!=0:\n",
    "    realMainList.append(i)\n",
    "\n",
    "resultList = []\n",
    "for i in realMainList:\n",
    "  one = i[0]\n",
    "  two = i[1]\n",
    "  three = np.mean(i[2])\n",
    "  fore = np.std(i[2])\n",
    "  resultList.append([one,two,three,fore])\n",
    "resultList.insert(0,['Machinery','Citem','avg','std'])\n",
    "# print(resultList)\n",
    "useList = []\n",
    "for i in resultList:\n",
    "  i = tuple(i)\n",
    "  useList.append(i)\n",
    "print(useList)\n",
    "## resultList ==> [(),(),...] 이런 형태\n",
    "\n",
    "# print(resultList)\n",
    "# insertDBList(resultList)"
   ]
  },
  {
   "cell_type": "code",
   "execution_count": null,
   "metadata": {},
   "outputs": [
    {
     "name": "stdout",
     "output_type": "stream",
     "text": [
      "MySQL 서버에 연결 성공하였습니다. b'slows14tem' b'bigdata'\n"
     ]
    },
    {
     "data": {
      "text/plain": [
       "True"
      ]
     },
     "execution_count": 8,
     "metadata": {},
     "output_type": "execute_result"
    }
   ],
   "source": [
    "insertDBList(resultList)"
   ]
  }
 ],
 "metadata": {
  "kernelspec": {
   "display_name": "base",
   "language": "python",
   "name": "python3"
  },
  "language_info": {
   "codemirror_mode": {
    "name": "ipython",
    "version": 3
   },
   "file_extension": ".py",
   "mimetype": "text/x-python",
   "name": "python",
   "nbconvert_exporter": "python",
   "pygments_lexer": "ipython3",
   "version": "3.9.13"
  },
  "orig_nbformat": 4,
  "vscode": {
   "interpreter": {
    "hash": "ad2bdc8ecc057115af97d19610ffacc2b4e99fae6737bb82f5d7fb13d2f2c186"
   }
  }
 },
 "nbformat": 4,
 "nbformat_minor": 2
}

